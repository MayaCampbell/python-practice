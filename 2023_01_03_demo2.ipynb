{
 "cells": [
  {
   "cell_type": "code",
   "execution_count": 1,
   "metadata": {},
   "outputs": [],
   "source": [
    "import mysql.connector as mariadb"
   ]
  },
  {
   "attachments": {},
   "cell_type": "markdown",
   "metadata": {},
   "source": [
    "Open the database connectin using the connect method.\n",
    "*since we are opening somethin... what else might we need to do?\n",
    "*hint: close\n",
    "\n",
    "We are using the print statemnt as a reminder when we run our script that we are making a db connection & because we are using a simple to make sure our code runs to that point in our file"
   ]
  },
  {
   "cell_type": "code",
   "execution_count": 2,
   "metadata": {},
   "outputs": [
    {
     "name": "stdout",
     "output_type": "stream",
     "text": [
      "Connecting to MariaDB Database\n"
     ]
    }
   ],
   "source": [
    "con=mariadb.connect(#assign connection to a variable con\n",
    "    host= \"localhost\",\n",
    "    user= \"root\",\n",
    "    password= \"Pass1234\",\n",
    "    database= \"classicmodels\" #name of database we want to connect to\n",
    ")\n",
    "#above is opening connection\n",
    "#connection object con variable\n",
    "\n",
    "print(\"Connecting to MariaDB Database\")"
   ]
  },
  {
   "attachments": {},
   "cell_type": "markdown",
   "metadata": {},
   "source": [
    "Let's check and see if we actually made a connection. To do this we need to create a cursor.\n",
    "We do this by calling the cursor method."
   ]
  },
  {
   "cell_type": "code",
   "execution_count": 9,
   "metadata": {},
   "outputs": [],
   "source": [
    "cur= con.cursor()\n",
    "\n",
    "st= \"SELECT productLine, COUNT(*) \\\n",
    "    FROM products \\\n",
    "    WHERE productLine= '{}'\"\n",
    "\n",
    "cur.execute(st.format('Motorcycles'))\n",
    "#use cursor to execute sql statements\n",
    "\n",
    "#.execute()- talks to the database\n",
    "#cursor object made by calling cursor()\n"
   ]
  },
  {
   "attachments": {},
   "cell_type": "markdown",
   "metadata": {},
   "source": [
    "In the cell above we created and executed our sql statment. But we have not used any methods to actually access this data from out select statment."
   ]
  },
  {
   "cell_type": "code",
   "execution_count": 11,
   "metadata": {},
   "outputs": [
    {
     "name": "stdout",
     "output_type": "stream",
     "text": [
      "[]\n"
     ]
    }
   ],
   "source": [
    "result= cur.fetchall()\n",
    "#store cur.fetchall to result variable\n",
    "print(result)\n",
    "#unpack\n",
    "#.fethcall()- give us a list object, list of tuples\n",
    "\n",
    "con.close()"
   ]
  },
  {
   "attachments": {},
   "cell_type": "markdown",
   "metadata": {},
   "source": [
    "That worked great! Let's make a new database without using th GUI or mysql shell.\n",
    "-Notice we are not connecting to a specific database when we make the connection\n",
    "-NOTE: strings can be passed directly into the execute method, detemin which way works best for each individual situation"
   ]
  },
  {
   "cell_type": "code",
   "execution_count": 12,
   "metadata": {},
   "outputs": [
    {
     "name": "stdout",
     "output_type": "stream",
     "text": [
      "Connecting to MariaDB Database...\n",
      "test_db created\n"
     ]
    }
   ],
   "source": [
    "con=mariadb.connect(\n",
    "    host= \"localhost\",\n",
    "    user= \"root\",\n",
    "    password= \"Pass1234\"\n",
    ")\n",
    "\n",
    "print(\"Connecting to MariaDB Database...\")\n",
    "\n",
    "cur=con.cursor()\n",
    "\n",
    "st= \"CREATE DATABASE test_db\"\n",
    "\n",
    "cur.execute(st)\n",
    "\n",
    "print(\"test_db created\")\n",
    "\n",
    "con.close()"
   ]
  },
  {
   "attachments": {},
   "cell_type": "markdown",
   "metadata": {},
   "source": [
    "Add a table to the test_db database that we created above"
   ]
  },
  {
   "cell_type": "code",
   "execution_count": 14,
   "metadata": {},
   "outputs": [
    {
     "name": "stdout",
     "output_type": "stream",
     "text": [
      "Connecting to Maria DB Database...\n"
     ]
    },
    {
     "ename": "ProgrammingError",
     "evalue": "1050 (42S01): Table 'registration' already exists",
     "output_type": "error",
     "traceback": [
      "\u001b[1;31m---------------------------------------------------------------------------\u001b[0m",
      "\u001b[1;31mMySQLInterfaceError\u001b[0m                       Traceback (most recent call last)",
      "File \u001b[1;32mc:\\Users\\Learner_XZHCG221\\AppData\\Local\\Programs\\Python\\Python311\\Lib\\site-packages\\mysql\\connector\\connection_cext.py:565\u001b[0m, in \u001b[0;36mCMySQLConnection.cmd_query\u001b[1;34m(self, query, raw, buffered, raw_as_string)\u001b[0m\n\u001b[0;32m    564\u001b[0m         query \u001b[39m=\u001b[39m query\u001b[39m.\u001b[39mencode(\u001b[39m\"\u001b[39m\u001b[39mutf-8\u001b[39m\u001b[39m\"\u001b[39m)\n\u001b[1;32m--> 565\u001b[0m     \u001b[39mself\u001b[39;49m\u001b[39m.\u001b[39;49m_cmysql\u001b[39m.\u001b[39;49mquery(\n\u001b[0;32m    566\u001b[0m         query,\n\u001b[0;32m    567\u001b[0m         raw\u001b[39m=\u001b[39;49mraw,\n\u001b[0;32m    568\u001b[0m         buffered\u001b[39m=\u001b[39;49mbuffered,\n\u001b[0;32m    569\u001b[0m         raw_as_string\u001b[39m=\u001b[39;49mraw_as_string,\n\u001b[0;32m    570\u001b[0m         query_attrs\u001b[39m=\u001b[39;49m\u001b[39mself\u001b[39;49m\u001b[39m.\u001b[39;49m_query_attrs,\n\u001b[0;32m    571\u001b[0m     )\n\u001b[0;32m    572\u001b[0m \u001b[39mexcept\u001b[39;00m MySQLInterfaceError \u001b[39mas\u001b[39;00m err:\n",
      "\u001b[1;31mMySQLInterfaceError\u001b[0m: Table 'registration' already exists",
      "\nThe above exception was the direct cause of the following exception:\n",
      "\u001b[1;31mProgrammingError\u001b[0m                          Traceback (most recent call last)",
      "Cell \u001b[1;32mIn[14], line 16\u001b[0m\n\u001b[0;32m     10\u001b[0m cur\u001b[39m=\u001b[39mcon\u001b[39m.\u001b[39mcursor()\n\u001b[0;32m     12\u001b[0m st\u001b[39m=\u001b[39m \u001b[39m\"\u001b[39m\u001b[39mCREATE TABLE Registration \u001b[39m\u001b[39m\\\u001b[39;00m\n\u001b[0;32m     13\u001b[0m \u001b[39m    (id INTEGER, age INTEGER, \u001b[39m\u001b[39m\\\u001b[39;00m\n\u001b[0;32m     14\u001b[0m \u001b[39m    first VARCHAR(50), last VARCHAR(100))\u001b[39m\u001b[39m\"\u001b[39m\n\u001b[1;32m---> 16\u001b[0m cur\u001b[39m.\u001b[39;49mexecute(st)\n\u001b[0;32m     18\u001b[0m \u001b[39mprint\u001b[39m(\u001b[39m\"\u001b[39m\u001b[39mRegistration Table is created\u001b[39m\u001b[39m\"\u001b[39m)\n",
      "File \u001b[1;32mc:\\Users\\Learner_XZHCG221\\AppData\\Local\\Programs\\Python\\Python311\\Lib\\site-packages\\mysql\\connector\\cursor_cext.py:279\u001b[0m, in \u001b[0;36mCMySQLCursor.execute\u001b[1;34m(self, operation, params, multi)\u001b[0m\n\u001b[0;32m    274\u001b[0m             \u001b[39mraise\u001b[39;00m ProgrammingError(\n\u001b[0;32m    275\u001b[0m                 \u001b[39m\"\u001b[39m\u001b[39mNot all parameters were used in the SQL statement\u001b[39m\u001b[39m\"\u001b[39m\n\u001b[0;32m    276\u001b[0m             )\n\u001b[0;32m    278\u001b[0m \u001b[39mtry\u001b[39;00m:\n\u001b[1;32m--> 279\u001b[0m     result \u001b[39m=\u001b[39m \u001b[39mself\u001b[39;49m\u001b[39m.\u001b[39;49m_cnx\u001b[39m.\u001b[39;49mcmd_query(\n\u001b[0;32m    280\u001b[0m         stmt,\n\u001b[0;32m    281\u001b[0m         raw\u001b[39m=\u001b[39;49m\u001b[39mself\u001b[39;49m\u001b[39m.\u001b[39;49m_raw,\n\u001b[0;32m    282\u001b[0m         buffered\u001b[39m=\u001b[39;49m\u001b[39mself\u001b[39;49m\u001b[39m.\u001b[39;49m_buffered,\n\u001b[0;32m    283\u001b[0m         raw_as_string\u001b[39m=\u001b[39;49m\u001b[39mself\u001b[39;49m\u001b[39m.\u001b[39;49m_raw_as_string,\n\u001b[0;32m    284\u001b[0m     )\n\u001b[0;32m    285\u001b[0m \u001b[39mexcept\u001b[39;00m MySQLInterfaceError \u001b[39mas\u001b[39;00m err:\n\u001b[0;32m    286\u001b[0m     \u001b[39mraise\u001b[39;00m get_mysql_exception(\n\u001b[0;32m    287\u001b[0m         msg\u001b[39m=\u001b[39merr\u001b[39m.\u001b[39mmsg, errno\u001b[39m=\u001b[39merr\u001b[39m.\u001b[39merrno, sqlstate\u001b[39m=\u001b[39merr\u001b[39m.\u001b[39msqlstate\n\u001b[0;32m    288\u001b[0m     ) \u001b[39mfrom\u001b[39;00m \u001b[39merr\u001b[39;00m\n",
      "File \u001b[1;32mc:\\Users\\Learner_XZHCG221\\AppData\\Local\\Programs\\Python\\Python311\\Lib\\site-packages\\mysql\\connector\\connection_cext.py:573\u001b[0m, in \u001b[0;36mCMySQLConnection.cmd_query\u001b[1;34m(self, query, raw, buffered, raw_as_string)\u001b[0m\n\u001b[0;32m    565\u001b[0m     \u001b[39mself\u001b[39m\u001b[39m.\u001b[39m_cmysql\u001b[39m.\u001b[39mquery(\n\u001b[0;32m    566\u001b[0m         query,\n\u001b[0;32m    567\u001b[0m         raw\u001b[39m=\u001b[39mraw,\n\u001b[1;32m   (...)\u001b[0m\n\u001b[0;32m    570\u001b[0m         query_attrs\u001b[39m=\u001b[39m\u001b[39mself\u001b[39m\u001b[39m.\u001b[39m_query_attrs,\n\u001b[0;32m    571\u001b[0m     )\n\u001b[0;32m    572\u001b[0m \u001b[39mexcept\u001b[39;00m MySQLInterfaceError \u001b[39mas\u001b[39;00m err:\n\u001b[1;32m--> 573\u001b[0m     \u001b[39mraise\u001b[39;00m get_mysql_exception(\n\u001b[0;32m    574\u001b[0m         err\u001b[39m.\u001b[39merrno, msg\u001b[39m=\u001b[39merr\u001b[39m.\u001b[39mmsg, sqlstate\u001b[39m=\u001b[39merr\u001b[39m.\u001b[39msqlstate\n\u001b[0;32m    575\u001b[0m     ) \u001b[39mfrom\u001b[39;00m \u001b[39merr\u001b[39;00m\n\u001b[0;32m    576\u001b[0m \u001b[39mexcept\u001b[39;00m \u001b[39mAttributeError\u001b[39;00m \u001b[39mas\u001b[39;00m err:\n\u001b[0;32m    577\u001b[0m     addr \u001b[39m=\u001b[39m (\n\u001b[0;32m    578\u001b[0m         \u001b[39mself\u001b[39m\u001b[39m.\u001b[39m_unix_socket \u001b[39mif\u001b[39;00m \u001b[39mself\u001b[39m\u001b[39m.\u001b[39m_unix_socket \u001b[39melse\u001b[39;00m \u001b[39mf\u001b[39m\u001b[39m\"\u001b[39m\u001b[39m{\u001b[39;00m\u001b[39mself\u001b[39m\u001b[39m.\u001b[39m_host\u001b[39m}\u001b[39;00m\u001b[39m:\u001b[39m\u001b[39m{\u001b[39;00m\u001b[39mself\u001b[39m\u001b[39m.\u001b[39m_port\u001b[39m}\u001b[39;00m\u001b[39m\"\u001b[39m\n\u001b[0;32m    579\u001b[0m     )\n",
      "\u001b[1;31mProgrammingError\u001b[0m: 1050 (42S01): Table 'registration' already exists"
     ]
    }
   ],
   "source": [
    "con=mariadb.connect(\n",
    "    host= \"localhost\",\n",
    "    user= \"root\",\n",
    "    password= \"Pass1234\",\n",
    "    database= \"test_db\"\n",
    ")\n",
    "\n",
    "print(\"Connecting to Maria DB Database...\")\n",
    "\n",
    "cur=con.cursor()\n",
    "\n",
    "st= \"CREATE TABLE Registration \\\n",
    "    (id INTEGER, age INTEGER, \\\n",
    "    first VARCHAR(50), last VARCHAR(100))\"\n",
    "\n",
    "cur.execute(st)\n",
    "\n",
    "print(\"Registration Table is created\")"
   ]
  },
  {
   "attachments": {},
   "cell_type": "markdown",
   "metadata": {},
   "source": [
    "Insert data into our newly created Registration Table\n",
    "*Reminder*\n",
    "DDL(Daata Definition Language)- Create, Drop, Alter (no commit)\n",
    "DQL(Data Query Language)- SELECT (no commit)\n",
    "DML(Data Manipulation Language)- INSERT, UPDATE, DELETE (have to use commit)"
   ]
  },
  {
   "cell_type": "code",
   "execution_count": 15,
   "metadata": {},
   "outputs": [
    {
     "name": "stdout",
     "output_type": "stream",
     "text": [
      "Connecting to Maria DB Database...\n",
      "Values are inserted\n"
     ]
    }
   ],
   "source": [
    "con=mariadb.connect(\n",
    "    host= \"localhost\",\n",
    "    user= \"root\",\n",
    "    password= \"Pass1234\",\n",
    "    database= \"test_db\"\n",
    ")\n",
    "\n",
    "print(\"Connecting to Maria DB Database...\")\n",
    "\n",
    "cur=con.cursor()\n",
    "\n",
    "st=\"INSERT INTO Registration \\\n",
    "    (id, age, first, last) VALUES \\\n",
    "    (100, 29, 'Michael', 'Jordan'), \\\n",
    "    (101, 29, 'Diego', 'Maradona'), \\\n",
    "    (102, 33, 'Babe', 'Ruth'), \\\n",
    "    (103, 40, 'Wayne', 'Gretzky'), \\\n",
    "    (104, 27, 'Michelle', 'Kwan'), \\\n",
    "    (105, 35, 'Steffi', 'Graf')\"\n",
    "\n",
    "cur.execute(st)\n",
    "con.commit()\n",
    "\n",
    "print(\"Values are inserted\")\n",
    "\n",
    "con.close()"
   ]
  },
  {
   "attachments": {},
   "cell_type": "markdown",
   "metadata": {},
   "source": [
    "Let's check how to see our values without using a GIU.\n",
    "We are using a different method here to access the values instead of the .fetchall() method."
   ]
  },
  {
   "cell_type": "code",
   "execution_count": 16,
   "metadata": {},
   "outputs": [
    {
     "name": "stdout",
     "output_type": "stream",
     "text": [
      "Connecting to Maria DB Database...\n",
      "ID: 100, AGE: 29, FIRST: Michael, LAST: Jordan\n",
      "ID: 101, AGE: 29, FIRST: Diego, LAST: Maradona\n",
      "ID: 102, AGE: 33, FIRST: Babe, LAST: Ruth\n",
      "ID: 103, AGE: 40, FIRST: Wayne, LAST: Gretzky\n",
      "ID: 104, AGE: 27, FIRST: Michelle, LAST: Kwan\n",
      "ID: 105, AGE: 35, FIRST: Steffi, LAST: Graf\n"
     ]
    }
   ],
   "source": [
    "con=mariadb.connect(\n",
    "    host= \"localhost\",\n",
    "    user= \"root\",\n",
    "    password= \"Pass1234\",\n",
    "    database= \"test_db\"\n",
    ")\n",
    "\n",
    "print(\"Connecting to Maria DB Database...\")\n",
    "\n",
    "cur=con.cursor()\n",
    "\n",
    "st =\"SELECT * FROM Registration\"\n",
    "\n",
    "cur.execute(st)\n",
    "\n",
    "#result= cur.fetchall()\n",
    "#print(result)\n",
    "#returns list of tuples\n",
    "\n",
    "for r in cur:\n",
    "    print(\"ID: {}, AGE: {}, FIRST: {}, LAST: {}\". format(r[0], r[1], r[2], r[3]))\n",
    "\n",
    "con.close()"
   ]
  },
  {
   "attachments": {},
   "cell_type": "markdown",
   "metadata": {},
   "source": [
    "Query with LIKE Operator"
   ]
  },
  {
   "cell_type": "code",
   "execution_count": 17,
   "metadata": {},
   "outputs": [
    {
     "name": "stdout",
     "output_type": "stream",
     "text": [
      "Connecting to Maria DB Database...\n",
      "ID: 100, AGE: 29, FIRST: Michael, LAST: Jordan\n",
      "ID: 104, AGE: 27, FIRST: Michelle, LAST: Kwan\n"
     ]
    }
   ],
   "source": [
    "con=mariadb.connect(\n",
    "    host= \"localhost\",\n",
    "    user= \"root\",\n",
    "    password= \"Pass1234\",\n",
    "    database= \"test_db\"\n",
    ")\n",
    "\n",
    "print(\"Connecting to Maria DB Database...\")\n",
    "\n",
    "cur=con.cursor()\n",
    "\n",
    "st =\"SELECT * FROM Registration WHERE first LIKE '%ich%'\"\n",
    "#%ich%- taking anythin before and after ich\n",
    "\n",
    "cur.execute(st)\n",
    "\n",
    "for r in cur:\n",
    "    print(\"ID: {}, AGE: {}, FIRST: {}, LAST: {}\". format(r[0], r[1], r[2], r[3]))\n",
    "\n",
    "con.close()"
   ]
  },
  {
   "attachments": {},
   "cell_type": "markdown",
   "metadata": {},
   "source": [
    "UPDATE Example:\n",
    "*Update is part of DML so we want to use the commit methof on out connections"
   ]
  },
  {
   "cell_type": "code",
   "execution_count": 18,
   "metadata": {},
   "outputs": [
    {
     "name": "stdout",
     "output_type": "stream",
     "text": [
      "Connecting to Maria DB Database...\n",
      "Values are updated\n"
     ]
    }
   ],
   "source": [
    "con=mariadb.connect(\n",
    "    host= \"localhost\",\n",
    "    user= \"root\",\n",
    "    password= \"Pass1234\",\n",
    "    database= \"test_db\"\n",
    ")\n",
    "\n",
    "print(\"Connecting to Maria DB Database...\")\n",
    "\n",
    "cur=con.cursor()\n",
    "\n",
    "st= \"UPDATE Registration \\\n",
    "    SET age= 30 WHERE id \"\n",
    "\n",
    "cur.execute(st)\n",
    "con.commit()\n",
    "print(\"Values are updated\")\n",
    "\n",
    "con.close()"
   ]
  },
  {
   "attachments": {},
   "cell_type": "markdown",
   "metadata": {},
   "source": [
    "Let's check if the change was made"
   ]
  },
  {
   "cell_type": "code",
   "execution_count": 19,
   "metadata": {},
   "outputs": [
    {
     "name": "stdout",
     "output_type": "stream",
     "text": [
      "Connecting to Maria DB Database...\n",
      "ID: 100, AGE: 30, FIRST: Michael, LAST: Jordan\n",
      "ID: 101, AGE: 30, FIRST: Diego, LAST: Maradona\n",
      "ID: 102, AGE: 30, FIRST: Babe, LAST: Ruth\n",
      "ID: 103, AGE: 30, FIRST: Wayne, LAST: Gretzky\n",
      "ID: 104, AGE: 30, FIRST: Michelle, LAST: Kwan\n",
      "ID: 105, AGE: 30, FIRST: Steffi, LAST: Graf\n"
     ]
    }
   ],
   "source": [
    "con=mariadb.connect(\n",
    "    host= \"localhost\",\n",
    "    user= \"root\",\n",
    "    password= \"Pass1234\",\n",
    "    database= \"test_db\"\n",
    ")\n",
    "\n",
    "print(\"Connecting to Maria DB Database...\")\n",
    "\n",
    "cur=con.cursor()\n",
    "\n",
    "st =\"SELECT * FROM Registration\"\n",
    "\n",
    "cur.execute(st)\n",
    "\n",
    "#result= cur.fetchall()\n",
    "#print(result)\n",
    "#returns list of tuples\n",
    "\n",
    "for r in cur:\n",
    "    print(\"ID: {}, AGE: {}, FIRST: {}, LAST: {}\". format(r[0], r[1], r[2], r[3]))\n",
    "\n",
    "con.close()"
   ]
  },
  {
   "attachments": {},
   "cell_type": "markdown",
   "metadata": {},
   "source": [
    "Example of using SQL actions with try and except block"
   ]
  },
  {
   "cell_type": "code",
   "execution_count": 21,
   "metadata": {},
   "outputs": [
    {
     "name": "stdout",
     "output_type": "stream",
     "text": [
      "1049 (42000): Unknown database 'wrong_db'\n"
     ]
    }
   ],
   "source": [
    "try:\n",
    "    con=mariadb.connect(\n",
    "        user= \"root\",\n",
    "        password= \"Pass1234\",\n",
    "        database=\"wrong_db\"\n",
    "    )\n",
    "\n",
    "    print(\"Connected to MariaDB...\")\n",
    "\n",
    "    con.close()\n",
    "except mariadb.Error as e:\n",
    "    print(e)"
   ]
  }
 ],
 "metadata": {
  "kernelspec": {
   "display_name": "Python 3",
   "language": "python",
   "name": "python3"
  },
  "language_info": {
   "codemirror_mode": {
    "name": "ipython",
    "version": 3
   },
   "file_extension": ".py",
   "mimetype": "text/x-python",
   "name": "python",
   "nbconvert_exporter": "python",
   "pygments_lexer": "ipython3",
   "version": "3.11.0"
  },
  "orig_nbformat": 4,
  "vscode": {
   "interpreter": {
    "hash": "a240a79a56f07427611ed7470762860540df2ed33899b99fe38f1fab4c51ff43"
   }
  }
 },
 "nbformat": 4,
 "nbformat_minor": 2
}
