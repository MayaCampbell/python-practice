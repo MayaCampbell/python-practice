{
 "cells": [
  {
   "cell_type": "code",
   "execution_count": 1,
   "metadata": {},
   "outputs": [],
   "source": [
    "import mysql.connector as mariadb"
   ]
  },
  {
   "attachments": {},
   "cell_type": "markdown",
   "metadata": {},
   "source": [
    "Open the database connectin using the connect method.\n",
    "*since we are opening somethin... what else might we need to do?\n",
    "*hint: close\n",
    "\n",
    "We are using the print statemnt as a reminder when we run our script that we are making a db connection & because we are using a simple to make sure our code runs to that point in our file"
   ]
  },
  {
   "cell_type": "code",
   "execution_count": 2,
   "metadata": {},
   "outputs": [
    {
     "name": "stdout",
     "output_type": "stream",
     "text": [
      "Connecting to MariaDB Database\n"
     ]
    }
   ],
   "source": [
    "con=mariadb.connect(#assign connection to a variable con\n",
    "    host= \"localhost\",\n",
    "    user= \"root\",\n",
    "    password= \"Pass1234\",\n",
    "    database= \"classicmodels\" #name of database we want to connect to\n",
    ")\n",
    "#above is opening connection\n",
    "#connection object con variable\n",
    "\n",
    "print(\"Connecting to MariaDB Database\")"
   ]
  },
  {
   "attachments": {},
   "cell_type": "markdown",
   "metadata": {},
   "source": [
    "Let's check and see if we actually made a connection. To do this we need to create a cursor.\n",
    "We do this by calling the cursor method."
   ]
  },
  {
   "cell_type": "code",
   "execution_count": 9,
   "metadata": {},
   "outputs": [],
   "source": [
    "cur= con.cursor()\n",
    "\n",
    "st= \"SELECT productLine, COUNT(*) \\\n",
    "    FROM products \\\n",
    "    WHERE productLine= '{}'\"\n",
    "\n",
    "cur.execute(st.format('Motorcycles'))\n",
    "#use cursor to execute sql statements\n",
    "\n",
    "#.execute()- talks to the database\n",
    "#cursor object made by calling cursor()\n"
   ]
  },
  {
   "attachments": {},
   "cell_type": "markdown",
   "metadata": {},
   "source": [
    "In the cell above we created and executed our sql statment. But we have not used any methods to actually access this data from out select statment."
   ]
  },
  {
   "cell_type": "code",
   "execution_count": 10,
   "metadata": {},
   "outputs": [
    {
     "name": "stdout",
     "output_type": "stream",
     "text": [
      "[('Motorcycles', 13)]\n"
     ]
    }
   ],
   "source": [
    "result= cur.fetchall()\n",
    "#store cur.fetchall to result variable\n",
    "print(result)\n",
    "#unpack\n",
    "#.fethcall()- give us a list object, list of tuples"
   ]
  }
 ],
 "metadata": {
  "kernelspec": {
   "display_name": "Python 3",
   "language": "python",
   "name": "python3"
  },
  "language_info": {
   "codemirror_mode": {
    "name": "ipython",
    "version": 3
   },
   "file_extension": ".py",
   "mimetype": "text/x-python",
   "name": "python",
   "nbconvert_exporter": "python",
   "pygments_lexer": "ipython3",
   "version": "3.11.0"
  },
  "orig_nbformat": 4,
  "vscode": {
   "interpreter": {
    "hash": "a240a79a56f07427611ed7470762860540df2ed33899b99fe38f1fab4c51ff43"
   }
  }
 },
 "nbformat": 4,
 "nbformat_minor": 2
}
