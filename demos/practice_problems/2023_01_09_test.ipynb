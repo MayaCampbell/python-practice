{
 "cells": [
  {
   "cell_type": "code",
   "execution_count": 1,
   "metadata": {},
   "outputs": [],
   "source": [
    "import requests\n",
    "import json\n",
    "from pprint import pp"
   ]
  },
  {
   "attachments": {},
   "cell_type": "markdown",
   "metadata": {},
   "source": [
    "Given the doctor's name and diagnosis id, filter the records over all pages.  Return an array with two integers, the integer parts of minimum and maximum body temp."
   ]
  },
  {
   "cell_type": "code",
   "execution_count": 77,
   "metadata": {},
   "outputs": [
    {
     "data": {
      "text/plain": [
       "(99, 103)"
      ]
     },
     "execution_count": 77,
     "metadata": {},
     "output_type": "execute_result"
    }
   ],
   "source": [
    "url= \"https://jsonmock.hackerrank.com/api/medical_records?page=\"\n",
    "total_pgs= 10\n",
    "data = []\n",
    "def get_all_pages():\n",
    "    for page in range(1, total_pgs+1):\n",
    "        response= requests.get(url+str(page))\n",
    "        view_response= response.json()\n",
    "        data.append(view_response)\n",
    "    return data\n",
    "\n",
    "cleaned_data= []\n",
    "def clean_data():\n",
    "    for i in data:\n",
    "        for page in i['data']:\n",
    "            cleaned_data.append(page)\n",
    "    return cleaned_data\n",
    "\n",
    "\n",
    "def health_stats(dr_name, dg_id):\n",
    "    body_temp= []\n",
    "    body_temp2= []\n",
    "    for name in cleaned_data:\n",
    "        if dr_name == name['doctor']['name'] and dg_id == name['diagnosis']['id']:\n",
    "            body_temp.append(name['vitals']['bodyTemperature'])\n",
    "    for temp in body_temp:\n",
    "        body_temp2.append(int(temp))\n",
    "    return min(body_temp2), max(body_temp2)\n",
    "\n",
    "\n",
    "get_all_pages()\n",
    "\n",
    "clean_data()\n",
    "\n",
    "health_stats('Dr Arnold Bullock', 2)\n",
    "#print(data)"
   ]
  }
 ],
 "metadata": {
  "kernelspec": {
   "display_name": "Python 3",
   "language": "python",
   "name": "python3"
  },
  "language_info": {
   "codemirror_mode": {
    "name": "ipython",
    "version": 3
   },
   "file_extension": ".py",
   "mimetype": "text/x-python",
   "name": "python",
   "nbconvert_exporter": "python",
   "pygments_lexer": "ipython3",
   "version": "3.11.0"
  },
  "orig_nbformat": 4,
  "vscode": {
   "interpreter": {
    "hash": "a240a79a56f07427611ed7470762860540df2ed33899b99fe38f1fab4c51ff43"
   }
  }
 },
 "nbformat": 4,
 "nbformat_minor": 2
}
