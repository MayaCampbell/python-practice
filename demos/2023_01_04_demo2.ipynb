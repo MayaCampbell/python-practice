{
 "cells": [
  {
   "cell_type": "code",
   "execution_count": 2,
   "metadata": {},
   "outputs": [],
   "source": [
    "import requests\n",
    "import json\n",
    "from pprint import pp"
   ]
  },
  {
   "attachments": {},
   "cell_type": "markdown",
   "metadata": {},
   "source": [
    "Get Request\n",
    "-Accessing some type of an endpoint\n",
    "-Retrieving data"
   ]
  },
  {
   "cell_type": "code",
   "execution_count": 4,
   "metadata": {},
   "outputs": [
    {
     "name": "stdout",
     "output_type": "stream",
     "text": [
      "{'userId': 1, 'id': 1, 'title': 'delectus aut autem', 'completed': False}\n",
      "200\n",
      "{'Date': 'Thu, 05 Jan 2023 22:51:54 GMT', 'Content-Type': 'application/json; charset=utf-8', 'Transfer-Encoding': 'chunked', 'Connection': 'keep-alive', 'X-Powered-By': 'Express', 'X-Ratelimit-Limit': '1000', 'X-Ratelimit-Remaining': '999', 'X-Ratelimit-Reset': '1662627921', 'Vary': 'Origin, Accept-Encoding', 'Access-Control-Allow-Credentials': 'true', 'Cache-Control': 'max-age=43200', 'Pragma': 'no-cache', 'Expires': '-1', 'X-Content-Type-Options': 'nosniff', 'Etag': 'W/\"53-hfEnumeNh6YirfjyjaujcOPPT+s\"', 'Via': '1.1 vegur', 'CF-Cache-Status': 'HIT', 'Age': '18154', 'Server-Timing': 'cf-q-config;dur=8.000002708286e-06', 'Report-To': '{\"endpoints\":[{\"url\":\"https:\\\\/\\\\/a.nel.cloudflare.com\\\\/report\\\\/v3?s=xgPLqJ5aItsDmvQumVyynofxhh1xm0MOv7SDB09BIvBTWiLt5L9StBd%2F5TfivKzsPe5ORdnrtALoH%2B4iFswWa73kA2iMcCVR010j0bMZtSoENcS4itZyqoa0oEYUuLB4EIc4BE%2BMW8SrMcDAgwS1\"}],\"group\":\"cf-nel\",\"max_age\":604800}', 'NEL': '{\"success_fraction\":0,\"report_to\":\"cf-nel\",\"max_age\":604800}', 'Server': 'cloudflare', 'CF-RAY': '784fc8013827c34a-EWR', 'Content-Encoding': 'gzip', 'alt-svc': 'h3=\":443\"; ma=86400, h3-29=\":443\"; ma=86400'}\n"
     ]
    }
   ],
   "source": [
    "api_url = \"https://jsonplaceholder.typicode.com/todos/1\"\n",
    "response= requests.get(api_url)\n",
    "r= response.json()\n",
    "\n",
    "print(response.json())\n",
    "print(response.status_code)\n",
    "print(response.headers)"
   ]
  },
  {
   "attachments": {},
   "cell_type": "markdown",
   "metadata": {},
   "source": [
    "POST Request\n",
    "-Posting data\n",
    "-creating something new"
   ]
  },
  {
   "cell_type": "code",
   "execution_count": 8,
   "metadata": {},
   "outputs": [
    {
     "name": "stdout",
     "output_type": "stream",
     "text": [
      "201\n",
      "{'userId': '1', 'title': 'Buy milk', 'completed': 'False', 'id': 201}\n",
      "{'userId': 1, 'title': 'Buy milk', 'completed': False, 'id': 201}\n"
     ]
    }
   ],
   "source": [
    "api_url = \"https://jsonplaceholder.typicode.com/todos\"\n",
    "todo= {\"userId\": 1, \"title\":\"Buy milk\", \"completed\": False}\n",
    "response=requests.post(api_url, todo)\n",
    "print(response.status_code)\n",
    "print(response.json())\n",
    "#.json() returnin back a dictionary\n",
    "\n",
    "#alternate\n",
    "headers= {\"Content-Type\":\"application/json\"}\n",
    "response= requests.post(api_url,data=json.dumps(todo), headers=headers)\n",
    "print(response.json())"
   ]
  },
  {
   "attachments": {},
   "cell_type": "markdown",
   "metadata": {},
   "source": [
    "PUT Request\n",
    "-updated existing \n",
    "*updated userId, title,completed for id 10"
   ]
  },
  {
   "cell_type": "code",
   "execution_count": 9,
   "metadata": {},
   "outputs": [
    {
     "name": "stdout",
     "output_type": "stream",
     "text": [
      "{'userId': 1, 'id': 10, 'title': 'illo est ratione doloremque quia maiores aut', 'completed': True}\n",
      "{'userId': 1, 'title': 'Wash car', 'completed': True, 'id': 10}\n",
      "200\n"
     ]
    }
   ],
   "source": [
    "api_url = \"https://jsonplaceholder.typicode.com/todos/10\"\n",
    "response=requests.get(api_url)\n",
    "print(response.json())\n",
    "#check if there is an id of 10\n",
    "todo = {\"userId\": 1, \"title\": \"Wash car\", \"completed\": True}\n",
    "response= requests.put(api_url, json=todo)\n",
    "print(response.json())\n",
    "print(response.status_code)\n",
    "#update id of 10\n"
   ]
  },
  {
   "attachments": {},
   "cell_type": "markdown",
   "metadata": {},
   "source": [
    "PATCH Request\n",
    "-modify value of value of specific field on existing todo\n",
    "*modified title"
   ]
  },
  {
   "cell_type": "code",
   "execution_count": 10,
   "metadata": {},
   "outputs": [
    {
     "name": "stdout",
     "output_type": "stream",
     "text": [
      "{'userId': 1, 'id': 10, 'title': 'Mow lawn', 'completed': True}\n",
      "200\n"
     ]
    }
   ],
   "source": [
    "api_url = \"https://jsonplaceholder.typicode.com/todos/10\"\n",
    "todo= {\"title\": \"Mow lawn\"}\n",
    "response= requests.patch(api_url,json=todo)\n",
    "print(response.json())\n",
    "print(response.status_code)"
   ]
  },
  {
   "attachments": {},
   "cell_type": "markdown",
   "metadata": {},
   "source": [
    "DELETE Request\n",
    "-delete"
   ]
  },
  {
   "cell_type": "code",
   "execution_count": 12,
   "metadata": {},
   "outputs": [
    {
     "name": "stdout",
     "output_type": "stream",
     "text": [
      "{}\n",
      "200\n"
     ]
    }
   ],
   "source": [
    "api_url = \"https://jsonplaceholder.typicode.com/todos/10\"\n",
    "response=requests.delete(api_url)\n",
    "print(response.json())\n",
    "print(response.status_code)"
   ]
  },
  {
   "attachments": {},
   "cell_type": "markdown",
   "metadata": {},
   "source": [
    "Example:\n",
    "*When we have a list we love FOR LOOP bc we can loop through every single index at once"
   ]
  },
  {
   "attachments": {},
   "cell_type": "markdown",
   "metadata": {},
   "source": [
    "Practice Example with People in space:\n",
    "1. We need to access our people key from our outer dictionary only!\n",
    "(Maybe there is a way that I can save the people values into its own variable)\n",
    "2. We need to loop through our list of dictionaries\n",
    "3. At each pass of the for loop we need to access the 'name' key and somehow capture the value. (Here we can determine if we want to print it on each loop OR do we want to capture it in variable and just print it at the end all together)"
   ]
  },
  {
   "cell_type": "code",
   "execution_count": 4,
   "metadata": {},
   "outputs": [
    {
     "name": "stdout",
     "output_type": "stream",
     "text": [
      "['Sergey Prokopyev', 'Dmitry Petelin', 'Frank Rubio', 'Nicole Mann', 'Josh Cassada', 'Koichi Wakata', 'Anna Kikina', 'Fei Junlong', 'Deng Qingming', 'Zhang Lu']\n"
     ]
    }
   ],
   "source": [
    "response = requests.get(\"http://api.open-notify.org/astros.json\")\n",
    "#print(response.status_code)\n",
    "#pp(response.json())\n",
    "\n",
    "#save response.json() so we have access and we can work with it as a dictionary\n",
    "#I am a dictionary\n",
    "r=response.json()\n",
    "\n",
    "#saving people key values to a variable\n",
    "#I am a list bc value is a list\n",
    "people_subset=r[\"people\"]\n",
    "#print(people_subset)\n",
    "\n",
    "def get_names():\n",
    "    plist=[] #Global variable\n",
    "    for person in people_subset:\n",
    "        plist.append(person['name'])\n",
    "    return plist\n",
    "new_list = get_names()\n",
    "print(new_list)"
   ]
  },
  {
   "attachments": {},
   "cell_type": "markdown",
   "metadata": {},
   "source": [
    "WORKING WITH APIS IN PYTHON- PAGINATION AND DATA EXTRACTION\n",
    "-compile list of total characters  rick and morty and how many characters they have been in"
   ]
  },
  {
   "cell_type": "code",
   "execution_count": 38,
   "metadata": {},
   "outputs": [
    {
     "name": "stdout",
     "output_type": "stream",
     "text": [
      "51\n"
     ]
    }
   ],
   "source": [
    "base_url= \"https://rickandmortyapi.com/api\"\n",
    "endpoint = \"/character\"\n",
    "response=requests.get(base_url + endpoint)\n",
    "#print(response.json())\n",
    "\n",
    "data= response.json()\n",
    "#print(data[\"info\"]) #just info key\n",
    "#how many pages are there?\n",
    "pages= data['info']['pages']\n",
    "#print(data['results'][0]) #print first item\n",
    "\n",
    "#print name\n",
    "name= data['results'][0]['name']\n",
    "\n",
    "#episode\n",
    "episodes = data['results'][0]['episode']\n",
    "\n",
    "#how many episodes character is in?\n",
    "print(len(episodes))\n",
    "\n",
    "\n"
   ]
  },
  {
   "cell_type": "code",
   "execution_count": 63,
   "metadata": {},
   "outputs": [
    {
     "ename": "TypeError",
     "evalue": "'Response' object is not subscriptable",
     "output_type": "error",
     "traceback": [
      "\u001b[1;31m---------------------------------------------------------------------------\u001b[0m",
      "\u001b[1;31mTypeError\u001b[0m                                 Traceback (most recent call last)",
      "Cell \u001b[1;32mIn[63], line 23\u001b[0m\n\u001b[0;32m     21\u001b[0m         charlist\u001b[39m.\u001b[39mappend(char)\n\u001b[0;32m     22\u001b[0m     \u001b[39mreturn\u001b[39;00m\n\u001b[1;32m---> 23\u001b[0m newlist\u001b[39m=\u001b[39m parse_json(response)\n\u001b[0;32m     25\u001b[0m data\u001b[39m=\u001b[39m main_request(base_url, endpoint,\u001b[39m1\u001b[39m)\n\u001b[0;32m     26\u001b[0m \u001b[39mprint\u001b[39m(get_pages(data))\n",
      "Cell \u001b[1;32mIn[63], line 14\u001b[0m, in \u001b[0;36mparse_json\u001b[1;34m(response)\u001b[0m\n\u001b[0;32m     12\u001b[0m \u001b[39mdef\u001b[39;00m \u001b[39mparse_json\u001b[39m(response):\n\u001b[0;32m     13\u001b[0m     charlist\u001b[39m=\u001b[39m []\n\u001b[1;32m---> 14\u001b[0m     \u001b[39mfor\u001b[39;00m item \u001b[39min\u001b[39;00m response[\u001b[39m'\u001b[39;49m\u001b[39mresults\u001b[39;49m\u001b[39m'\u001b[39;49m]:\n\u001b[0;32m     15\u001b[0m         \u001b[39m#print(item['name'], len(item['episode']))\u001b[39;00m\n\u001b[0;32m     16\u001b[0m         \u001b[39m#save into a dictionary\u001b[39;00m\n\u001b[0;32m     17\u001b[0m         char\u001b[39m=\u001b[39m{\n\u001b[0;32m     18\u001b[0m             \u001b[39m'\u001b[39m\u001b[39mname\u001b[39m\u001b[39m'\u001b[39m: item[\u001b[39m'\u001b[39m\u001b[39mname\u001b[39m\u001b[39m'\u001b[39m],\n\u001b[0;32m     19\u001b[0m             \u001b[39m'\u001b[39m\u001b[39mnum_ep\u001b[39m\u001b[39m'\u001b[39m: \u001b[39mlen\u001b[39m(item[\u001b[39m'\u001b[39m\u001b[39mepisode\u001b[39m\u001b[39m'\u001b[39m])\n\u001b[0;32m     20\u001b[0m         }\n\u001b[0;32m     21\u001b[0m         charlist\u001b[39m.\u001b[39mappend(char)\n",
      "\u001b[1;31mTypeError\u001b[0m: 'Response' object is not subscriptable"
     ]
    }
   ],
   "source": [
    "base_url= \"https://rickandmortyapi.com/api\"\n",
    "endpoint = \"/character\"\n",
    "\n",
    "def main_request(base_url, endpoint, x):\n",
    "    r= requests.get(base_url + endpoint +f'?page={x}')\n",
    "    return r.json()\n",
    "\n",
    "def get_pages(response):\n",
    "    return response['info']['pages']\n",
    "\n",
    "#work though character info\n",
    "def parse_json(response):\n",
    "    charlist= []\n",
    "    for item in response['results']:\n",
    "        #print(item['name'], len(item['episode']))\n",
    "        #save into a dictionary\n",
    "        char={\n",
    "            'name': item['name'],\n",
    "            'num_ep': len(item['episode'])\n",
    "        }\n",
    "        charlist.append(char)\n",
    "    return\n",
    "newlist= parse_json(response)\n",
    "\n",
    "data= main_request(base_url, endpoint,1)\n",
    "print(get_pages(data))\n",
    "parse_json(data)"
   ]
  },
  {
   "attachments": {},
   "cell_type": "markdown",
   "metadata": {},
   "source": [
    "Count of how many episode took place in specific location"
   ]
  },
  {
   "cell_type": "code",
   "execution_count": 61,
   "metadata": {},
   "outputs": [
    {
     "name": "stdout",
     "output_type": "stream",
     "text": [
      "[{'type': 'Planet', 'dimension': 15}, {'type': 'Cluster', 'dimension': 7}, {'type': 'Space station', 'dimension': 7}, {'type': 'Planet', 'dimension': 7}, {'type': 'Microverse', 'dimension': 15}, {'type': 'TV', 'dimension': 7}, {'type': 'Resort', 'dimension': 7}, {'type': 'Planet', 'dimension': 26}, {'type': 'Planet', 'dimension': 21}, {'type': 'Planet', 'dimension': 7}, {'type': 'Planet', 'dimension': 7}, {'type': 'Planet', 'dimension': 20}, {'type': 'Planet', 'dimension': 7}, {'type': 'Fantasy town', 'dimension': 17}, {'type': 'Planet', 'dimension': 7}, {'type': 'Space station', 'dimension': 7}, {'type': 'Planet', 'dimension': 15}, {'type': 'Dream', 'dimension': 15}, {'type': 'Planet', 'dimension': 21}, {'type': 'Planet', 'dimension': 21}]\n",
      "7\n"
     ]
    },
    {
     "data": {
      "text/plain": [
       "[{'type': 'Planet', 'dimension': 15},\n",
       " {'type': 'Cluster', 'dimension': 7},\n",
       " {'type': 'Space station', 'dimension': 7},\n",
       " {'type': 'Planet', 'dimension': 7},\n",
       " {'type': 'Microverse', 'dimension': 15},\n",
       " {'type': 'TV', 'dimension': 7},\n",
       " {'type': 'Resort', 'dimension': 7},\n",
       " {'type': 'Planet', 'dimension': 26},\n",
       " {'type': 'Planet', 'dimension': 21},\n",
       " {'type': 'Planet', 'dimension': 7},\n",
       " {'type': 'Planet', 'dimension': 7},\n",
       " {'type': 'Planet', 'dimension': 20},\n",
       " {'type': 'Planet', 'dimension': 7},\n",
       " {'type': 'Fantasy town', 'dimension': 17},\n",
       " {'type': 'Planet', 'dimension': 7},\n",
       " {'type': 'Space station', 'dimension': 7},\n",
       " {'type': 'Planet', 'dimension': 15},\n",
       " {'type': 'Dream', 'dimension': 15},\n",
       " {'type': 'Planet', 'dimension': 21},\n",
       " {'type': 'Planet', 'dimension': 21}]"
      ]
     },
     "execution_count": 61,
     "metadata": {},
     "output_type": "execute_result"
    }
   ],
   "source": [
    "base_url= \"https://rickandmortyapi.com/api\"\n",
    "endpoint = \"/location\"\n",
    "\n",
    "def get_main(base_url, endpoint):\n",
    "    response= requests.get(base_url + endpoint)\n",
    "    return response.json()\n",
    "\n",
    "def get_pages(response):\n",
    "    return response['info']['pages']\n",
    "\n",
    "url= get_main(base_url, endpoint)\n",
    "def parse_json(response):\n",
    "    locationlist= []\n",
    "    for item in response['results']:\n",
    "        location= {\n",
    "        'type': item['type'],\n",
    "        'dimension':len(item['dimension'])\n",
    "        }\n",
    "        locationlist.append(location)\n",
    "    return locationlist\n",
    "new_list = parse_json(url)\n",
    "print(new_list)\n",
    "\n",
    "url= get_main(base_url, endpoint)\n",
    "pp(get_pages(url))\n",
    "parse_json(url)\n",
    "\n",
    "    "
   ]
  }
 ],
 "metadata": {
  "kernelspec": {
   "display_name": "Python 3",
   "language": "python",
   "name": "python3"
  },
  "language_info": {
   "codemirror_mode": {
    "name": "ipython",
    "version": 3
   },
   "file_extension": ".py",
   "mimetype": "text/x-python",
   "name": "python",
   "nbconvert_exporter": "python",
   "pygments_lexer": "ipython3",
   "version": "3.11.0"
  },
  "orig_nbformat": 4,
  "vscode": {
   "interpreter": {
    "hash": "a240a79a56f07427611ed7470762860540df2ed33899b99fe38f1fab4c51ff43"
   }
  }
 },
 "nbformat": 4,
 "nbformat_minor": 2
}
