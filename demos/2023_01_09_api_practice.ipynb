{
 "cells": [
  {
   "cell_type": "code",
   "execution_count": 1,
   "metadata": {},
   "outputs": [],
   "source": [
    "import requests\n",
    "import json\n",
    "from pprint import pp"
   ]
  },
  {
   "cell_type": "code",
   "execution_count": 2,
   "metadata": {},
   "outputs": [],
   "source": [
    "url= 'https://hacker-news.firebaseio.com/v0/item/'\n",
    "end= '.json?print=pretty'\n",
    "\n",
    "max_id= 34327327\n",
    "\n",
    "data= []\n",
    "\n",
    "for item in range(34317985, max_id+1):\n",
    "    response= requests.get(url + str(item) + end)\n",
    "    view_response= response.json()\n",
    "    data.append(view_response)\n",
    "\n",
    "print(data)\n",
    "\n"
   ]
  }
 ],
 "metadata": {
  "kernelspec": {
   "display_name": "Python 3",
   "language": "python",
   "name": "python3"
  },
  "language_info": {
   "codemirror_mode": {
    "name": "ipython",
    "version": 3
   },
   "file_extension": ".py",
   "mimetype": "text/x-python",
   "name": "python",
   "nbconvert_exporter": "python",
   "pygments_lexer": "ipython3",
   "version": "3.11.0"
  },
  "orig_nbformat": 4,
  "vscode": {
   "interpreter": {
    "hash": "a240a79a56f07427611ed7470762860540df2ed33899b99fe38f1fab4c51ff43"
   }
  }
 },
 "nbformat": 4,
 "nbformat_minor": 2
}
