{
 "cells": [
  {
   "cell_type": "code",
   "execution_count": 2,
   "metadata": {},
   "outputs": [],
   "source": [
    "import requests\n",
    "import json\n",
    "from pprint import pp"
   ]
  },
  {
   "attachments": {},
   "cell_type": "markdown",
   "metadata": {},
   "source": [
    "Get Request\n",
    "-Accessing some type of an endpoint\n",
    "-Retrieving data"
   ]
  },
  {
   "cell_type": "code",
   "execution_count": 4,
   "metadata": {},
   "outputs": [
    {
     "name": "stdout",
     "output_type": "stream",
     "text": [
      "{'userId': 1, 'id': 1, 'title': 'delectus aut autem', 'completed': False}\n",
      "200\n",
      "{'Date': 'Thu, 05 Jan 2023 22:51:54 GMT', 'Content-Type': 'application/json; charset=utf-8', 'Transfer-Encoding': 'chunked', 'Connection': 'keep-alive', 'X-Powered-By': 'Express', 'X-Ratelimit-Limit': '1000', 'X-Ratelimit-Remaining': '999', 'X-Ratelimit-Reset': '1662627921', 'Vary': 'Origin, Accept-Encoding', 'Access-Control-Allow-Credentials': 'true', 'Cache-Control': 'max-age=43200', 'Pragma': 'no-cache', 'Expires': '-1', 'X-Content-Type-Options': 'nosniff', 'Etag': 'W/\"53-hfEnumeNh6YirfjyjaujcOPPT+s\"', 'Via': '1.1 vegur', 'CF-Cache-Status': 'HIT', 'Age': '18154', 'Server-Timing': 'cf-q-config;dur=8.000002708286e-06', 'Report-To': '{\"endpoints\":[{\"url\":\"https:\\\\/\\\\/a.nel.cloudflare.com\\\\/report\\\\/v3?s=xgPLqJ5aItsDmvQumVyynofxhh1xm0MOv7SDB09BIvBTWiLt5L9StBd%2F5TfivKzsPe5ORdnrtALoH%2B4iFswWa73kA2iMcCVR010j0bMZtSoENcS4itZyqoa0oEYUuLB4EIc4BE%2BMW8SrMcDAgwS1\"}],\"group\":\"cf-nel\",\"max_age\":604800}', 'NEL': '{\"success_fraction\":0,\"report_to\":\"cf-nel\",\"max_age\":604800}', 'Server': 'cloudflare', 'CF-RAY': '784fc8013827c34a-EWR', 'Content-Encoding': 'gzip', 'alt-svc': 'h3=\":443\"; ma=86400, h3-29=\":443\"; ma=86400'}\n"
     ]
    }
   ],
   "source": [
    "api_url = \"https://jsonplaceholder.typicode.com/todos/1\"\n",
    "response= requests.get(api_url)\n",
    "r= response.json()\n",
    "\n",
    "print(response.json())\n",
    "print(response.status_code)\n",
    "print(response.headers)"
   ]
  },
  {
   "attachments": {},
   "cell_type": "markdown",
   "metadata": {},
   "source": [
    "POST Request\n",
    "-Posting data\n",
    "-creating something new"
   ]
  },
  {
   "cell_type": "code",
   "execution_count": 8,
   "metadata": {},
   "outputs": [
    {
     "name": "stdout",
     "output_type": "stream",
     "text": [
      "201\n",
      "{'userId': '1', 'title': 'Buy milk', 'completed': 'False', 'id': 201}\n",
      "{'userId': 1, 'title': 'Buy milk', 'completed': False, 'id': 201}\n"
     ]
    }
   ],
   "source": [
    "api_url = \"https://jsonplaceholder.typicode.com/todos\"\n",
    "todo= {\"userId\": 1, \"title\":\"Buy milk\", \"completed\": False}\n",
    "response=requests.post(api_url, todo)\n",
    "print(response.status_code)\n",
    "print(response.json())\n",
    "#.json() returnin back a dictionary\n",
    "\n",
    "#alternate\n",
    "headers= {\"Content-Type\":\"application/json\"}\n",
    "response= requests.post(api_url,data=json.dumps(todo), headers=headers)\n",
    "print(response.json())"
   ]
  },
  {
   "attachments": {},
   "cell_type": "markdown",
   "metadata": {},
   "source": [
    "PUT Request\n",
    "-updated existing \n",
    "*updated userId, title,completed for id 10"
   ]
  },
  {
   "cell_type": "code",
   "execution_count": 9,
   "metadata": {},
   "outputs": [
    {
     "name": "stdout",
     "output_type": "stream",
     "text": [
      "{'userId': 1, 'id': 10, 'title': 'illo est ratione doloremque quia maiores aut', 'completed': True}\n",
      "{'userId': 1, 'title': 'Wash car', 'completed': True, 'id': 10}\n",
      "200\n"
     ]
    }
   ],
   "source": [
    "api_url = \"https://jsonplaceholder.typicode.com/todos/10\"\n",
    "response=requests.get(api_url)\n",
    "print(response.json())\n",
    "#check if there is an id of 10\n",
    "todo = {\"userId\": 1, \"title\": \"Wash car\", \"completed\": True}\n",
    "response= requests.put(api_url, json=todo)\n",
    "print(response.json())\n",
    "print(response.status_code)\n",
    "#update id of 10\n"
   ]
  },
  {
   "attachments": {},
   "cell_type": "markdown",
   "metadata": {},
   "source": [
    "PATCH Request\n",
    "-modify value of value of specific field on existing todo\n",
    "*modified title"
   ]
  },
  {
   "cell_type": "code",
   "execution_count": 10,
   "metadata": {},
   "outputs": [
    {
     "name": "stdout",
     "output_type": "stream",
     "text": [
      "{'userId': 1, 'id': 10, 'title': 'Mow lawn', 'completed': True}\n",
      "200\n"
     ]
    }
   ],
   "source": [
    "api_url = \"https://jsonplaceholder.typicode.com/todos/10\"\n",
    "todo= {\"title\": \"Mow lawn\"}\n",
    "response= requests.patch(api_url,json=todo)\n",
    "print(response.json())\n",
    "print(response.status_code)"
   ]
  },
  {
   "attachments": {},
   "cell_type": "markdown",
   "metadata": {},
   "source": [
    "DELETE Request\n",
    "-delete"
   ]
  },
  {
   "cell_type": "code",
   "execution_count": 12,
   "metadata": {},
   "outputs": [
    {
     "name": "stdout",
     "output_type": "stream",
     "text": [
      "{}\n",
      "200\n"
     ]
    }
   ],
   "source": [
    "api_url = \"https://jsonplaceholder.typicode.com/todos/10\"\n",
    "response=requests.delete(api_url)\n",
    "print(response.json())\n",
    "print(response.status_code)"
   ]
  },
  {
   "attachments": {},
   "cell_type": "markdown",
   "metadata": {},
   "source": [
    "Example:\n",
    "*When we have a list we love FOR LOOP bc we can loop through every single index at once"
   ]
  },
  {
   "cell_type": "code",
   "execution_count": 14,
   "metadata": {},
   "outputs": [
    {
     "name": "stdout",
     "output_type": "stream",
     "text": [
      "200\n",
      "{'message': 'success',\n",
      " 'people': [{'name': 'Sergey Prokopyev', 'craft': 'ISS'},\n",
      "            {'name': 'Dmitry Petelin', 'craft': 'ISS'},\n",
      "            {'name': 'Frank Rubio', 'craft': 'ISS'},\n",
      "            {'name': 'Nicole Mann', 'craft': 'ISS'},\n",
      "            {'name': 'Josh Cassada', 'craft': 'ISS'},\n",
      "            {'name': 'Koichi Wakata', 'craft': 'ISS'},\n",
      "            {'name': 'Anna Kikina', 'craft': 'ISS'},\n",
      "            {'name': 'Fei Junlong', 'craft': 'Shenzhou 15'},\n",
      "            {'name': 'Deng Qingming', 'craft': 'Shenzhou 15'},\n",
      "            {'name': 'Zhang Lu', 'craft': 'Shenzhou 15'}],\n",
      " 'number': 10}\n"
     ]
    }
   ],
   "source": [
    "response = requests.get(\"http://api.open-notify.org/astros.json\")\n",
    "print(response.status_code)\n",
    "pp(response.json())"
   ]
  }
 ],
 "metadata": {
  "kernelspec": {
   "display_name": "Python 3",
   "language": "python",
   "name": "python3"
  },
  "language_info": {
   "codemirror_mode": {
    "name": "ipython",
    "version": 3
   },
   "file_extension": ".py",
   "mimetype": "text/x-python",
   "name": "python",
   "nbconvert_exporter": "python",
   "pygments_lexer": "ipython3",
   "version": "3.11.0"
  },
  "orig_nbformat": 4,
  "vscode": {
   "interpreter": {
    "hash": "a240a79a56f07427611ed7470762860540df2ed33899b99fe38f1fab4c51ff43"
   }
  }
 },
 "nbformat": 4,
 "nbformat_minor": 2
}
