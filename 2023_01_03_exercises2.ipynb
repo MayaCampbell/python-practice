{
 "cells": [
  {
   "cell_type": "code",
   "execution_count": 1,
   "metadata": {},
   "outputs": [],
   "source": [
    "import mysql.connector as mariadb"
   ]
  },
  {
   "attachments": {},
   "cell_type": "markdown",
   "metadata": {},
   "source": [
    "Generate_User_Table():\n",
    "-Establish connectiong to test_db\n",
    "-Create user table\n",
    "-Insert values into user table"
   ]
  },
  {
   "cell_type": "code",
   "execution_count": 3,
   "metadata": {},
   "outputs": [],
   "source": [
    "def generate_user_table():\n",
    "    con=mariadb.connect(\n",
    "        host = \"localhost\",\n",
    "        user = \"root\",\n",
    "        password = \"Pass1234\",\n",
    "        database = \"test_db\"\n",
    "    )\n",
    "    print(\"Connecting to Maria DB Database...\")\n",
    "    cur=con.cursor()\n",
    "    st= \"CREATE TABLE user_table \\\n",
    "        (email VARCHAR(100), name VARCHAR(50), password VARCHAR(30)\"\n",
    "    cur.execute(st)\n",
    "    print(\"Created user_table table\")\n",
    "    st= \"INSERT INTO user_table \\\n",
    "        (email, name, password) VALUES \\\n",
    "        ('ywbaek@perscholas.org', 'young', 'letsgomets'), \\\n",
    "        ('mcordon@perscholas.org', 'marcial', 'perscholas', \\\n",
    "        ('mhaseeb@perscholas.org', 'haseeb', 'platform') \"\n",
    "    cur.execute(st)\n",
    "    print(\"Inserted values into user_table\")\n",
    "    con.close()\n",
    "\n",
    "    generate_user_table()"
   ]
  },
  {
   "attachments": {},
   "cell_type": "markdown",
   "metadata": {},
   "source": [
    "Get_All_Users():\n",
    "-Establish connection to test_db\n",
    "-Print out the email, name, and password of all users"
   ]
  },
  {
   "cell_type": "code",
   "execution_count": null,
   "metadata": {},
   "outputs": [],
   "source": [
    "def get_all_users():\n",
    "    con=mariadb.connect(\n",
    "        host= \"localhost\",\n",
    "        user= \"root\",\n",
    "        password= \"Pass1234\",\n",
    "        database= \"test_db\"\n",
    "    )\n",
    "    print(\"Connecting to MariaDB Database...\")\n",
    "    cur=con.cursor()\n",
    "    st= \"SELECT * FROM user_table\"\n",
    "    cur.execute(st)\n",
    "    result= cur.fetchall()\n",
    "    print(result)     \n",
    "    con.close()\n",
    "\n",
    "    get_all_users()"
   ]
  }
 ],
 "metadata": {
  "kernelspec": {
   "display_name": "Python 3",
   "language": "python",
   "name": "python3"
  },
  "language_info": {
   "codemirror_mode": {
    "name": "ipython",
    "version": 3
   },
   "file_extension": ".py",
   "mimetype": "text/x-python",
   "name": "python",
   "nbconvert_exporter": "python",
   "pygments_lexer": "ipython3",
   "version": "3.11.0"
  },
  "orig_nbformat": 4,
  "vscode": {
   "interpreter": {
    "hash": "a240a79a56f07427611ed7470762860540df2ed33899b99fe38f1fab4c51ff43"
   }
  }
 },
 "nbformat": 4,
 "nbformat_minor": 2
}
