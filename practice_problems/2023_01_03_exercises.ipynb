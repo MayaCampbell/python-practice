{
 "cells": [
  {
   "cell_type": "code",
   "execution_count": 19,
   "metadata": {},
   "outputs": [],
   "source": [
    "import mysql.connector as mariadb"
   ]
  },
  {
   "attachments": {},
   "cell_type": "markdown",
   "metadata": {},
   "source": [
    "GENERATE_USER_TABLE():\n"
   ]
  },
  {
   "cell_type": "code",
   "execution_count": 23,
   "metadata": {},
   "outputs": [
    {
     "name": "stdout",
     "output_type": "stream",
     "text": [
      "Connecting to MariaDB Database...\n",
      "Created user_table\n",
      "Insert Values into user_table\n"
     ]
    }
   ],
   "source": [
    "def generate_user_table():\n",
    "    con= mariadb.connect(\n",
    "        host= \"localhost\",\n",
    "        user= \"root\",\n",
    "        password= \"Pass1234\",\n",
    "        database= \"test_db\")\n",
    "    print(\"Connecting to MariaDB Database...\")\n",
    "    cur = con.cursor()\n",
    "    st = \"CREATE TABLE user_table\\\n",
    "        (email VARCHAR(100), name VARCHAR(50), password VARCHAR(30))\"\n",
    "    cur.execute(st)\n",
    "    print(\"Created user_table\")\n",
    "    st = \"INSERT INTO user_table\\\n",
    "        (email, name, password) VALUES\\\n",
    "        ('ywbaek@perscholas.org', 'young', 'letsgomets'),\\\n",
    "        ('mcordon@perscholas.org', 'marcial', 'perscholas'),\\\n",
    "        ('mhaseeb@perscholas.org', 'haseeb', 'platform')\"\n",
    "    cur.execute(st)\n",
    "    con.commit()\n",
    "\n",
    "    print(\"Insert Values into user_table\")\n",
    "\n",
    "    con.close()\n",
    "\n",
    "generate_user_table()"
   ]
  },
  {
   "attachments": {},
   "cell_type": "markdown",
   "metadata": {},
   "source": [
    "GET_ALL_USERS()"
   ]
  },
  {
   "cell_type": "code",
   "execution_count": 25,
   "metadata": {},
   "outputs": [
    {
     "name": "stdout",
     "output_type": "stream",
     "text": [
      "Connecting to MariaDB Database...\n",
      "email: ywbaek@perscholas.org, name: young, password: letsgomets\n",
      "email: mcordon@perscholas.org, name: marcial, password: perscholas\n",
      "email: mhaseeb@perscholas.org, name: haseeb, password: platform\n"
     ]
    }
   ],
   "source": [
    "def get_all_users():\n",
    "    con=mariadb.connect(\n",
    "        host= \"localhost\",\n",
    "        user= \"root\",\n",
    "        password= \"Pass1234\",\n",
    "        database= \"test_db\")\n",
    "    print(\"Connecting to MariaDB Database...\")\n",
    "    cur= con.cursor()\n",
    "    st= \"SELECT * FROM user_table\"\n",
    "    cur.execute(st)\n",
    "    for r in cur:\n",
    "        print(\"email: {}, name: {}, password: {}\".format(r[0], r[1], r[2]))\n",
    "    con.close()\n",
    "get_all_users()\n"
   ]
  },
  {
   "attachments": {},
   "cell_type": "markdown",
   "metadata": {},
   "source": [
    "GET_USER_BY_NAME(NAME)"
   ]
  },
  {
   "cell_type": "code",
   "execution_count": 39,
   "metadata": {},
   "outputs": [
    {
     "name": "stdout",
     "output_type": "stream",
     "text": [
      "Connecting to MariaDB Database...\n",
      "[('ywbaek@perscholas.org', 'letsgomets')]\n"
     ]
    }
   ],
   "source": [
    "def get_user_by_name(name):\n",
    "    con= mariadb.connect(\n",
    "        host= \"localhost\",\n",
    "        user= \"root\",\n",
    "        password= \"Pass1234\",\n",
    "        database= \"test_db\")\n",
    "    print(\"Connecting to MariaDB Database...\")\n",
    "    cur= con.cursor()\n",
    "    st= \"SELECT email, password \\\n",
    "        FROM user_table \\\n",
    "        WHERE name = '{}'\"\n",
    "    cur.execute(st.format(name))\n",
    "    result= cur.fetchall()\n",
    "    print(result)\n",
    "    con.close()\n",
    "get_user_by_name('young')\n"
   ]
  },
  {
   "attachments": {},
   "cell_type": "markdown",
   "metadata": {},
   "source": [
    "VALIDATE_USER(email,password)"
   ]
  },
  {
   "cell_type": "code",
   "execution_count": 51,
   "metadata": {},
   "outputs": [
    {
     "name": "stdout",
     "output_type": "stream",
     "text": [
      "Connecting to MariaDB Database...\n",
      "[('young',)]\n"
     ]
    },
    {
     "data": {
      "text/plain": [
       "True"
      ]
     },
     "execution_count": 51,
     "metadata": {},
     "output_type": "execute_result"
    }
   ],
   "source": [
    "def validate_user(email,password):\n",
    "    con= mariadb.connect(\n",
    "        host= \"localhost\",\n",
    "        user= \"root\",\n",
    "        password= \"Pass1234\",\n",
    "        database= \"test_db\")\n",
    "    print(\"Connecting to MariaDB Database...\")\n",
    "    cur=con.cursor()\n",
    "    st= f\"\"\"SELECT name\n",
    "            FROM user_table \n",
    "            WHERE email = '{email}' AND password = '{password}'\"\"\"\n",
    "    cur.execute(st)\n",
    "    result= cur.fetchall()\n",
    "    print(result)\n",
    "    if len(result) > 0:\n",
    "        return True\n",
    "    else:\n",
    "        return False\n",
    "    \n",
    "validate_user('ywbaek@perscholas.org','letsgomets')"
   ]
  },
  {
   "attachments": {},
   "cell_type": "markdown",
   "metadata": {},
   "source": [
    "UPDATE_USER(EMAIL,NAME,PASSWORD):"
   ]
  },
  {
   "cell_type": "code",
   "execution_count": 56,
   "metadata": {},
   "outputs": [
    {
     "name": "stdout",
     "output_type": "stream",
     "text": [
      "Connecting to MariaDB Database...\n"
     ]
    },
    {
     "data": {
      "text/plain": [
       "False"
      ]
     },
     "execution_count": 56,
     "metadata": {},
     "output_type": "execute_result"
    }
   ],
   "source": [
    "def update_user(email,name,password):\n",
    "    con= mariadb.connect(\n",
    "        host= \"localhost\",\n",
    "        user= \"root\",\n",
    "        password= \"Pass1234\",\n",
    "        database= \"test_db\")\n",
    "    print(\"Connecting to MariaDB Database...\")\n",
    "    cur=con.cursor()\n",
    "    st= f\"\"\"UPDATE user_table\n",
    "            SET name= '{name}', password= '{password}'\n",
    "            WHERE email = '{email}'\"\"\"\n",
    "    output= cur.execute(st)\n",
    "    con.commit()\n",
    "    if output:\n",
    "        return True\n",
    "    else:\n",
    "        return False\n",
    "    \n",
    "update_user('ywbaek@perscholas.org', 'young123', 'letsgomets123')"
   ]
  }
 ],
 "metadata": {
  "kernelspec": {
   "display_name": "Python 3",
   "language": "python",
   "name": "python3"
  },
  "language_info": {
   "codemirror_mode": {
    "name": "ipython",
    "version": 3
   },
   "file_extension": ".py",
   "mimetype": "text/x-python",
   "name": "python",
   "nbconvert_exporter": "python",
   "pygments_lexer": "ipython3",
   "version": "3.11.0 (main, Oct 24 2022, 18:26:48) [MSC v.1933 64 bit (AMD64)]"
  },
  "orig_nbformat": 4,
  "vscode": {
   "interpreter": {
    "hash": "a240a79a56f07427611ed7470762860540df2ed33899b99fe38f1fab4c51ff43"
   }
  }
 },
 "nbformat": 4,
 "nbformat_minor": 2
}
